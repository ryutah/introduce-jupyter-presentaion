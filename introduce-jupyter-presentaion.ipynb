{
 "cells": [
  {
   "cell_type": "markdown",
   "metadata": {
    "slideshow": {
     "slide_type": "slide"
    }
   },
   "source": [
    "# 作ろうスライド With Jupyter Notebook"
   ]
  },
  {
   "cell_type": "markdown",
   "metadata": {
    "slideshow": {
     "slide_type": "slide"
    }
   },
   "source": [
    "## Who am I"
   ]
  },
  {
   "cell_type": "markdown",
   "metadata": {
    "cell_style": "split",
    "slideshow": {
     "slide_type": "fragment"
    }
   },
   "source": [
    "<div align=\"center\">\n",
    "    <img width=\"300px\" src=\"https://user-images.githubusercontent.com/6662577/90311532-b53b1e80-df36-11ea-90d4-83254edee763.png\" >\n",
    "    <div align=\"center\">\n",
    "        <h4>@ryutah</h4>\n",
    "</div>\n",
    "</div>"
   ]
  },
  {
   "cell_type": "markdown",
   "metadata": {
    "cell_style": "split",
    "slideshow": {
     "slide_type": "fragment"
    }
   },
   "source": [
    "- 所属: Tech Club"
   ]
  },
  {
   "cell_type": "markdown",
   "metadata": {
    "cell_style": "split",
    "slideshow": {
     "slide_type": "fragment"
    }
   },
   "source": [
    "- 特技: GAE, Go"
   ]
  },
  {
   "cell_type": "markdown",
   "metadata": {
    "cell_style": "split",
    "slideshow": {
     "slide_type": "fragment"
    }
   },
   "source": [
    "- やってること\n",
    "  - 某就職系企業案件\n",
    "  - Working Groupの運営\n",
    "  - 各案件のアーキテクチャレビュー\n",
    "  - 営業支援"
   ]
  },
  {
   "cell_type": "markdown",
   "metadata": {
    "slideshow": {
     "slide_type": "slide"
    }
   },
   "source": [
    "みんな、登壇時の資料は何で作ってますか？"
   ]
  },
  {
   "cell_type": "markdown",
   "metadata": {
    "cell_style": "center",
    "slideshow": {
     "slide_type": "slide"
    }
   },
   "source": [
    "### Webツール系だと、、、"
   ]
  },
  {
   "cell_type": "markdown",
   "metadata": {
    "cell_style": "split",
    "slideshow": {
     "slide_type": "fragment"
    }
   },
   "source": [
    "- Goolge スライド\n",
    "- Slides\n",
    "- swipe\n",
    "- Qiita スライドモード"
   ]
  },
  {
   "cell_type": "markdown",
   "metadata": {
    "cell_style": "split",
    "slideshow": {
     "slide_type": "fragment"
    }
   },
   "source": [
    "あたりが"
   ]
  },
  {
   "cell_type": "markdown",
   "metadata": {
    "cell_style": "center",
    "slideshow": {
     "slide_type": "slide"
    }
   },
   "source": [
    "### ローカルツール系だと、、、"
   ]
  },
  {
   "cell_type": "markdown",
   "metadata": {
    "cell_style": "split",
    "slideshow": {
     "slide_type": "fragment"
    }
   },
   "source": [
    "- Keynote\n",
    "- Marp\n",
    "- reveal.js\n",
    "- remark.js"
   ]
  },
  {
   "cell_type": "markdown",
   "metadata": {
    "cell_style": "split",
    "slideshow": {
     "slide_type": "fragment"
    }
   },
   "source": [
    "あたりが有名ドコロですかね"
   ]
  },
  {
   "cell_type": "markdown",
   "metadata": {
    "slideshow": {
     "slide_type": "slide"
    }
   },
   "source": [
    "んで、今回のスライドなんですが、、、"
   ]
  },
  {
   "cell_type": "markdown",
   "metadata": {
    "slideshow": {
     "slide_type": "subslide"
    }
   },
   "source": [
    "**Jupyter Notebook** を使って作ってます"
   ]
  },
  {
   "cell_type": "markdown",
   "metadata": {
    "slideshow": {
     "slide_type": "subslide"
    }
   },
   "source": [
    "こんな感じ\n",
    "\n",
    "<img width=\"800px\" src=\"https://user-images.githubusercontent.com/6662577/90313027-0bfb2500-df44-11ea-9f1e-7781a92012d8.png\">"
   ]
  },
  {
   "cell_type": "markdown",
   "metadata": {
    "slideshow": {
     "slide_type": "slide"
    }
   },
   "source": [
    "Jupyter Notebookで書いた内容が、[reveal.js](https://revealjs.com/)ベースのUXで表示されてる感じですね"
   ]
  },
  {
   "cell_type": "markdown",
   "metadata": {
    "slideshow": {
     "slide_type": "slide"
    }
   },
   "source": [
    "各セルがreveal.jsのスライドとして表現されてるの状態で、普通のスライドではできないようなことができて結構面白いです"
   ]
  },
  {
   "cell_type": "markdown",
   "metadata": {
    "slideshow": {
     "slide_type": "subslide"
    }
   },
   "source": [
    "### 例えば、、、"
   ]
  },
  {
   "cell_type": "markdown",
   "metadata": {
    "cell_style": "split",
    "slideshow": {
     "slide_type": "fragment"
    }
   },
   "source": [
    "こんな感じで、リアルタイムでコードを実行できたりします👉"
   ]
  },
  {
   "cell_type": "code",
   "execution_count": null,
   "metadata": {
    "cell_style": "split",
    "slideshow": {
     "slide_type": "-"
    }
   },
   "outputs": [],
   "source": [
    "// Ctrl-Enterでコードを実行\n",
    "import \"fmt\"\n",
    "\n",
    "fmt.Sprintln(\"Hello, World!!!\")"
   ]
  },
  {
   "cell_type": "markdown",
   "metadata": {
    "slideshow": {
     "slide_type": "slide"
    }
   },
   "source": [
    "「スライドを作る手法」みたいなのって、意外と知らない人も多いと思うので、今後みんなもLTどんどんやっててほしいなあと思ったので、今回はどうやってこのスライドを作ったのかってのを紹介してみようかなと思いました"
   ]
  },
  {
   "cell_type": "markdown",
   "metadata": {
    "slideshow": {
     "slide_type": "slide"
    }
   },
   "source": [
    "というわけで、、、、"
   ]
  },
  {
   "cell_type": "markdown",
   "metadata": {
    "slideshow": {
     "slide_type": "subslide"
    }
   },
   "source": [
    "## 今日のアジェンダ"
   ]
  },
  {
   "cell_type": "markdown",
   "metadata": {
    "slideshow": {
     "slide_type": "-"
    }
   },
   "source": [
    "- Jupyter Notebookってなんだ？\n",
    "- スライドを作ろう！"
   ]
  },
  {
   "cell_type": "markdown",
   "metadata": {
    "cell_style": "split",
    "slideshow": {
     "slide_type": "slide"
    }
   },
   "source": [
    "## Jupyter Notebookってなんだ？"
   ]
  },
  {
   "cell_type": "markdown",
   "metadata": {
    "cell_style": "split",
    "slideshow": {
     "slide_type": "-"
    }
   },
   "source": [
    "- 概要\n",
    "- Golangを動かしてみよう"
   ]
  },
  {
   "cell_type": "markdown",
   "metadata": {
    "slideshow": {
     "slide_type": "slide"
    }
   },
   "source": [
    "<div align=\"center\">\n",
    "    <h3>概要</h3>\n",
    "</div>"
   ]
  },
  {
   "cell_type": "markdown",
   "metadata": {
    "slideshow": {
     "slide_type": "subslide"
    }
   },
   "source": [
    "### Jupyter Nobotebookってこんな子"
   ]
  },
  {
   "cell_type": "markdown",
   "metadata": {
    "cell_style": "split",
    "slideshow": {
     "slide_type": "-"
    }
   },
   "source": [
    "The Jupyter Notebook is an open-source web application that allows you to create and share documents that contain live code, equations, visualizations and narrative text. Uses include: data cleaning and transformation, numerical simulation, statistical modeling, data visualization, machine learning, and much more."
   ]
  },
  {
   "cell_type": "markdown",
   "metadata": {
    "cell_style": "split",
    "slideshow": {
     "slide_type": "fragment"
    }
   },
   "source": [
    "Jupyter NotebookはオープンソースのWebアプリケーションで、ライブコード、方程式、可視化、ナラティブテキストを含むドキュメントを作成して共有することができます。用途としては、データのクリーニングと変換、数値シミュレーション、統計モデリング、データの可視化、機械学習などがあります。"
   ]
  },
  {
   "cell_type": "markdown",
   "metadata": {
    "slideshow": {
     "slide_type": "slide"
    }
   },
   "source": [
    "### つまりこういう感じのことができるWebアプリケーション"
   ]
  },
  {
   "cell_type": "markdown",
   "metadata": {
    "cell_style": "center",
    "slideshow": {
     "slide_type": "-"
    }
   },
   "source": [
    "<img width=\"800\" alt=\"image\" src=\"https://user-images.githubusercontent.com/6662577/90916067-63553580-e41b-11ea-8ad3-6bdfd7d450d4.png\">"
   ]
  },
  {
   "cell_type": "markdown",
   "metadata": {
    "slideshow": {
     "slide_type": "-"
    }
   },
   "source": [
    "_[Pythonではじめる機械学習](https://github.com/amueller/introduction_to_ml_with_python)より_"
   ]
  },
  {
   "cell_type": "markdown",
   "metadata": {
    "cell_style": "center",
    "slideshow": {
     "slide_type": "slide"
    }
   },
   "source": [
    "GCPでも、Jupyte Notebookの実行環境として[Cloud Datalab](https://cloud.google.com/datalab?hl=ja)ってサービスを展開してたり、最近だとJupyte Notebookライクなサービスとして[Google Colaboratory](https://www.google.com/url?sa=t&rct=j&q=&esrc=s&source=web&cd=&cad=rja&uact=8&ved=2ahUKEwiv05z-3bPrAhXJE4gKHRwhAtsQFjAAegQIBhAB&url=https%3A%2F%2Fcolab.research.google.com%2Fnotebooks%2Fwelcome.ipynb%3Fhl%3Dja&usg=AOvVaw0qrT1c7i_vNFAUuRBp9c6M)が利用できるようになりましたね。"
   ]
  },
  {
   "cell_type": "markdown",
   "metadata": {
    "slideshow": {
     "slide_type": "slide"
    }
   },
   "source": [
    "<div align=\"center\">\n",
    "    <h3>Golangを動かしてみよう</h3>\n",
    "</div>"
   ]
  },
  {
   "cell_type": "code",
   "execution_count": null,
   "metadata": {
    "slideshow": {
     "slide_type": "slide"
    }
   },
   "outputs": [],
   "source": [
    "import \"fmt\"\n",
    "\n",
    "fmt.Sprintf(\"Hello, %s\", \"Ryuta\")"
   ]
  },
  {
   "cell_type": "markdown",
   "metadata": {
    "cell_style": "split",
    "slideshow": {
     "slide_type": "slide"
    }
   },
   "source": [
    "## スライドを作ろう！"
   ]
  },
  {
   "cell_type": "markdown",
   "metadata": {
    "cell_style": "split",
    "slideshow": {
     "slide_type": "-"
    }
   },
   "source": [
    "- ツール紹介\n",
    "- スライドの書き方"
   ]
  },
  {
   "cell_type": "markdown",
   "metadata": {
    "slideshow": {
     "slide_type": "slide"
    }
   },
   "source": [
    "<div align=\"center\">\n",
    "    <h3>ツール紹介</h3>\n",
    "</div>"
   ]
  },
  {
   "cell_type": "markdown",
   "metadata": {
    "slideshow": {
     "slide_type": "subslide"
    }
   },
   "source": [
    "### RISE"
   ]
  },
  {
   "attachments": {},
   "cell_type": "markdown",
   "metadata": {
    "slideshow": {
     "slide_type": "-"
    }
   },
   "source": [
    "- Jupyter Notebookをreveal.jsベースのスライドにしてくれるやつ\n",
    "- ぶっちゃけだいたいおかげ\n",
    "\n",
    "<div align=\"center\">\n",
    "    <img src=\"https://rise.readthedocs.io/en/stable/_images/basic_usage.gif\">\n",
    "</div>"
   ]
  },
  {
   "cell_type": "markdown",
   "metadata": {
    "slideshow": {
     "slide_type": "slide"
    }
   },
   "source": [
    "### jupyter_contrib_nbextensions"
   ]
  },
  {
   "cell_type": "markdown",
   "metadata": {
    "slideshow": {
     "slide_type": "-"
    }
   },
   "source": [
    "- Jupyter Notebookの拡張機能\n",
    "- なんか色々できるようになる\n",
    "- このスライドでは、[Split Cells](https://jupyter-contrib-nbextensions.readthedocs.io/en/latest/nbextensions/splitcell/readme.html)を使ってます"
   ]
  },
  {
   "cell_type": "markdown",
   "metadata": {
    "slideshow": {
     "slide_type": "-"
    }
   },
   "source": [
    "<div align=\"center\">\n",
    "    <img width=\"600\" alt=\"image\" src=\"https://user-images.githubusercontent.com/6662577/91042969-a1d23680-e64d-11ea-88a6-c5ac14027ac1.png\">\n",
    "    <span>↑こんな感じで、セルを横並びにできる</span>\n",
    "</div>"
   ]
  },
  {
   "cell_type": "markdown",
   "metadata": {
    "slideshow": {
     "slide_type": "slide"
    }
   },
   "source": [
    "### gophernotes"
   ]
  },
  {
   "cell_type": "markdown",
   "metadata": {
    "slideshow": {
     "slide_type": "-"
    }
   },
   "source": [
    "- GolangのランタイムをJupyter Notebookに追加する\n",
    "- 別にスライド作るだけならいらないけど、せっかくなのでGoのコード実行できるように今回は使ってみた"
   ]
  },
  {
   "cell_type": "markdown",
   "metadata": {
    "slideshow": {
     "slide_type": "slide"
    }
   },
   "source": [
    "### Binder"
   ]
  },
  {
   "cell_type": "markdown",
   "metadata": {},
   "source": [
    "- GitHub上のJupyter Notebookを共有できるWebサービス\n",
    "- さくっと実行環境ごとJupyter Notebookの共有ができちゃう"
   ]
  },
  {
   "cell_type": "markdown",
   "metadata": {
    "slideshow": {
     "slide_type": "slide"
    }
   },
   "source": [
    "#### 今回はBinder用に、こんな感じのDockerfileを定義しました\n",
    "\n",
    "```Dockerfile\n",
    "FROM jupyter/datascience-notebook:python-3.8.5\n",
    "\n",
    "ENV PATH=$PATH:/usr/local/go/bin\n",
    "\n",
    "USER root\n",
    "\n",
    "RUN pip3 install -U pip \\\n",
    " && pip3 install -U RISE jupyter_contrib_nbextensions\n",
    "\n",
    "RUN jupyter contrib nbextension install --system \\\n",
    " && jupyter nbextension enable splitcell/splitcell\n",
    "\n",
    "WORKDIR /usr/local\n",
    "\n",
    "RUN wget -q https://golang.org/dl/go1.15.linux-amd64.tar.gz \\\n",
    " && tar xf go1.15.linux-amd64.tar.gz \\\n",
    " && rm go1.15.linux-amd64.tar.gz\n",
    "\n",
    "RUN export GO111MODULE=on \\\n",
    " && go get github.com/gopherdata/gophernotes@v0.7.1\n",
    "\n",
    "RUN mkdir -p ~/.local/share/jupyter/kernels/gophernotes \\\n",
    " && cd ~/.local/share/jupyter/kernels/gophernotes \\\n",
    " && cp ~/go/pkg/mod/github.com/gopherdata/gophernotes@v0.7.1/kernel/* \".\" \\\n",
    " && chmod +w ./kernel.json \\\n",
    " && sed \"s|gophernotes|/home/jovyan/go/bin/gophernotes|\" < kernel.json.in > kernel.json\n",
    "\n",
    "ARG NB_USER=jovyan\n",
    "ARG NB_UID=1000\n",
    "COPY . ${HOME}\n",
    "RUN chown -R ${NB_UID} ${HOME}\n",
    "USER ${NB_USER}\n",
    "\n",
    "WORKDIR ${HOME}\n",
    "\n",
    "CMD [\"jupyter\", \"notebook\", \"--ip\", \"0.0.0.0\", \"--allow-root\"]\n",
    "```"
   ]
  },
  {
   "cell_type": "code",
   "execution_count": null,
   "metadata": {
    "slideshow": {
     "slide_type": "subslide"
    }
   },
   "outputs": [],
   "source": [
    "// 外部パッケージもImportできる\n",
    "import \"github.com/pkg/errors\""
   ]
  },
  {
   "cell_type": "code",
   "execution_count": null,
   "metadata": {},
   "outputs": [],
   "source": [
    "func fib(n int) int {\n",
    "    if n == 0 || n == 1 { return n }\n",
    "    return fib(n - 1) + fib(n - 2)\n",
    "}\n",
    "\n",
    "fib(15)"
   ]
  },
  {
   "cell_type": "markdown",
   "metadata": {
    "slideshow": {
     "slide_type": "fragment"
    }
   },
   "source": [
    "コードにフォーカスがあたってる状態で `Enter` を押すと直接編集もできちゃう"
   ]
  },
  {
   "cell_type": "markdown",
   "metadata": {
    "slideshow": {
     "slide_type": "slide"
    }
   },
   "source": [
    "まあこんな感じで、色々すごいわけですね。"
   ]
  },
  {
   "cell_type": "code",
   "execution_count": 7,
   "metadata": {
    "slideshow": {
     "slide_type": "slide"
    }
   },
   "outputs": [],
   "source": [
    "type fooConfig struct {\n",
    "    val1 string\n",
    "    val2 string\n",
    "}"
   ]
  },
  {
   "cell_type": "code",
   "execution_count": 8,
   "metadata": {
    "slideshow": {
     "slide_type": "subslide"
    }
   },
   "outputs": [],
   "source": [
    "type fooOption func(*fooConfig)\n",
    "\n",
    "func withVal1(v string) fooOption {\n",
    "    return func(f *fooConfig) {\n",
    "        f.val1 = v\n",
    "    }\n",
    "}\n",
    "\n",
    "func withVal2(v string) fooOption {\n",
    "    return func(f *fooConfig) {\n",
    "        f.val2 = v\n",
    "    }\n",
    "}"
   ]
  },
  {
   "cell_type": "code",
   "execution_count": 9,
   "metadata": {
    "slideshow": {
     "slide_type": "subslide"
    }
   },
   "outputs": [],
   "source": [
    "func newFooConfig(opts ...fooOption) fooConfig {\n",
    "    f := fooConfig{\n",
    "        val1: \"default val1\", // val1のデフォルト値\n",
    "        val2: \"default val2\", // val2のデフォルト値\n",
    "    }\n",
    "    for _, o := range opts {\n",
    "        o(&f)\n",
    "    }\n",
    "    return f\n",
    "}"
   ]
  },
  {
   "cell_type": "code",
   "execution_count": 12,
   "metadata": {
    "slideshow": {
     "slide_type": "subslide"
    }
   },
   "outputs": [
    {
     "name": "stdout",
     "output_type": "stream",
     "text": [
      "val1: new val1, val2: default val2\n",
      "val1: default val1, val2: new val2\n",
      "val1: new val1, val2: new val2\n"
     ]
    }
   ],
   "source": [
    "import \"fmt\"\n",
    "\n",
    "func foo(opts ...fooOption) {\n",
    "    conf := newFooConfig(opts...)\n",
    "    fmt.Printf(\"val1: %s, val2: %s\\n\", conf.val1, conf.val2)\n",
    "}\n",
    "\n",
    "foo(withVal1(\"new val1\")) // val1の値を上書き\n",
    "foo(withVal2(\"new val2\")) // val2の値を上書き\n",
    "foo(withVal1(\"new val1\"), withVal2(\"new val2\")) // val1, val2の値を上書き"
   ]
  },
  {
   "cell_type": "code",
   "execution_count": null,
   "metadata": {},
   "outputs": [],
   "source": []
  }
 ],
 "metadata": {
  "celltoolbar": "Slideshow",
  "kernelspec": {
   "display_name": "Go",
   "language": "go",
   "name": "gophernotes"
  },
  "language_info": {
   "codemirror_mode": "",
   "file_extension": ".go",
   "mimetype": "",
   "name": "go",
   "nbconvert_exporter": "",
   "pygments_lexer": "",
   "version": "go1.15"
  }
 },
 "nbformat": 4,
 "nbformat_minor": 4
}
