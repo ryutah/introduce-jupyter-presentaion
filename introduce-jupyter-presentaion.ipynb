{
 "cells": [
  {
   "cell_type": "markdown",
   "metadata": {
    "slideshow": {
     "slide_type": "slide"
    }
   },
   "source": [
    "# 作ろうスライド With Jupyter Notebook"
   ]
  },
  {
   "cell_type": "markdown",
   "metadata": {
    "slideshow": {
     "slide_type": "slide"
    }
   },
   "source": [
    "## Who am I"
   ]
  },
  {
   "cell_type": "markdown",
   "metadata": {
    "cell_style": "split",
    "slideshow": {
     "slide_type": "fragment"
    }
   },
   "source": [
    "<div align=\"center\">\n",
    "    <img width=\"300px\" src=\"https://user-images.githubusercontent.com/6662577/90311532-b53b1e80-df36-11ea-90d4-83254edee763.png\" >\n",
    "    <div align=\"center\">\n",
    "        <h4>@ryutah</h4>\n",
    "</div>\n",
    "</div>"
   ]
  },
  {
   "cell_type": "markdown",
   "metadata": {
    "cell_style": "split",
    "slideshow": {
     "slide_type": "fragment"
    }
   },
   "source": [
    "- 所属: Tech Club"
   ]
  },
  {
   "cell_type": "markdown",
   "metadata": {
    "cell_style": "split",
    "slideshow": {
     "slide_type": "fragment"
    }
   },
   "source": [
    "- 特技: GAE, Go"
   ]
  },
  {
   "cell_type": "markdown",
   "metadata": {
    "cell_style": "split",
    "slideshow": {
     "slide_type": "fragment"
    }
   },
   "source": [
    "- やってること\n",
    "  - 某就職系企業案件\n",
    "  - Working Groupの運営\n",
    "  - 各案件のアーキテクチャレビュー\n",
    "  - 営業支援"
   ]
  },
  {
   "cell_type": "markdown",
   "metadata": {
    "slideshow": {
     "slide_type": "slide"
    }
   },
   "source": [
    "今回のプレゼン資料ですが"
   ]
  },
  {
   "cell_type": "markdown",
   "metadata": {
    "slideshow": {
     "slide_type": "fragment"
    }
   },
   "source": [
    "タイトルの通り **Jupyter Notebook** を使って書いてます"
   ]
  },
  {
   "cell_type": "markdown",
   "metadata": {
    "slideshow": {
     "slide_type": "subslide"
    }
   },
   "source": [
    "こんな感じ\n",
    "\n",
    "<img width=\"800px\" src=\"https://user-images.githubusercontent.com/6662577/90313027-0bfb2500-df44-11ea-9f1e-7781a92012d8.png\">"
   ]
  },
  {
   "cell_type": "markdown",
   "metadata": {
    "slideshow": {
     "slide_type": "slide"
    }
   },
   "source": [
    "今見てもらってる通り、[reveal.js](https://revealjs.com/)ベースのスライドを超簡単に作成できるほか、リアルタイムで実行できるコードなんてのもさくっとスライドに追加できちゃいます"
   ]
  },
  {
   "cell_type": "markdown",
   "metadata": {
    "slideshow": {
     "slide_type": "fragment"
    }
   },
   "source": [
    "こんな感じ。 `Ctrl-Enter` でコードを実行できる！"
   ]
  },
  {
   "cell_type": "code",
   "execution_count": null,
   "metadata": {
    "slideshow": {
     "slide_type": "-"
    }
   },
   "outputs": [],
   "source": [
    "import \"fmt\"\n",
    "\n",
    "a := 1 + 1\n",
    "fmt.Sprintf(\"a is %d\", a)"
   ]
  },
  {
   "cell_type": "markdown",
   "metadata": {
    "slideshow": {
     "slide_type": "slide"
    }
   },
   "source": [
    "個人的にGoogle スライドで資料作成するのも疲弊してたってのもあるけど、結構この方式でスライド作成するの気に入ったので紹介してみようと思いました"
   ]
  },
  {
   "cell_type": "markdown",
   "metadata": {
    "slideshow": {
     "slide_type": "slide"
    }
   },
   "source": [
    "というわけで、、、"
   ]
  },
  {
   "cell_type": "markdown",
   "metadata": {
    "slideshow": {
     "slide_type": "subslide"
    }
   },
   "source": [
    "## アジェンダ\n",
    "\n",
    "- Jupyter Notebookってなに？\n",
    "- スライドを作って見よう！\n",
    "- BinderでNotebookを共有しよう！"
   ]
  },
  {
   "cell_type": "markdown",
   "metadata": {
    "cell_style": "split",
    "slideshow": {
     "slide_type": "slide"
    }
   },
   "source": [
    "## Jupyter Notebookってなに？"
   ]
  },
  {
   "cell_type": "markdown",
   "metadata": {
    "cell_style": "split",
    "slideshow": {
     "slide_type": "-"
    }
   },
   "source": [
    "- 概要\n",
    "- ここがすごい！"
   ]
  },
  {
   "cell_type": "markdown",
   "metadata": {
    "cell_style": "center",
    "slideshow": {
     "slide_type": "subslide"
    }
   },
   "source": [
    "### 概要\n",
    "\n",
    "- インタラクティブにコードを実行できる実行環境\n",
    "- つよい\n",
    "\n",
    "### 強いポイント\n",
    "\n",
    "- Markdownでの説明とコードを共存できるので、コードの説明とかするときにすごいい"
   ]
  },
  {
   "cell_type": "code",
   "execution_count": null,
   "metadata": {
    "slideshow": {
     "slide_type": "slide"
    }
   },
   "outputs": [],
   "source": [
    "import \"fmt\"\n",
    "\n",
    "fmt.Sprintf(\"Hello, %s\", \"Ryuta\")"
   ]
  },
  {
   "cell_type": "markdown",
   "metadata": {
    "slideshow": {
     "slide_type": "slide"
    }
   },
   "source": [
    "### 今回のスライド用に定義したDockerfile\n",
    "\n",
    "```Dockerfile\n",
    "FROM jupyter/datascience-notebook:python-3.8.5\n",
    "\n",
    "ENV PATH=$PATH:/usr/local/go/bin\n",
    "\n",
    "USER root:root\n",
    "\n",
    "# Install RISE\n",
    "RUN pip3 install -U pip \\\n",
    " && pip3 install -U RISE\n",
    "\n",
    "# Install gophernotes\n",
    "WORKDIR /usr/local\n",
    "\n",
    "RUN wget -q https://golang.org/dl/go1.15.linux-amd64.tar.gz \\\n",
    " && tar xf go1.15.linux-amd64.tar.gz \\\n",
    " && rm go1.15.linux-amd64.tar.gz\n",
    "\n",
    "RUN export GO111MODULE=on \\\n",
    " && go get github.com/gopherdata/gophernotes@v0.7.1\n",
    "\n",
    "RUN mkdir -p ~/.local/share/jupyter/kernels/gophernotes \\\n",
    " && cd ~/.local/share/jupyter/kernels/gophernotes \\\n",
    " && cp ~/go/pkg/mod/github.com/gopherdata/gophernotes@v0.7.1/kernel/* \".\" \\\n",
    " && chmod +w ./kernel.json \\\n",
    " && sed \"s|gophernotes|/home/jovyan/go/bin/gophernotes|\" < kernel.json.in > kernel.json\n",
    "\n",
    "WORKDIR /app\n",
    "\n",
    "CMD [\"jupyter\", \"notebook\", \"--ip\", \"0.0.0.0\", \"--allow-root\"]\n",
    "```"
   ]
  },
  {
   "cell_type": "code",
   "execution_count": null,
   "metadata": {
    "slideshow": {
     "slide_type": "subslide"
    }
   },
   "outputs": [],
   "source": [
    "// 外部パッケージもImportできる\n",
    "import \"github.com/pkg/errors\""
   ]
  },
  {
   "cell_type": "code",
   "execution_count": null,
   "metadata": {},
   "outputs": [],
   "source": [
    "func fib(n int) int {\n",
    "    if n == 0 || n == 1 { return n }\n",
    "    return fib(n - 1) + fib(n - 2)\n",
    "}\n",
    "\n",
    "fib(10)"
   ]
  },
  {
   "cell_type": "markdown",
   "metadata": {
    "slideshow": {
     "slide_type": "fragment"
    }
   },
   "source": [
    "コードにフォーカスがあたってる状態で `Enter` を押すと直接編集もできちゃう"
   ]
  },
  {
   "cell_type": "markdown",
   "metadata": {
    "slideshow": {
     "slide_type": "slide"
    }
   },
   "source": [
    "まあこんな感じで、色々すごいわけですね。"
   ]
  }
 ],
 "metadata": {
  "celltoolbar": "Slideshow",
  "kernelspec": {
   "display_name": "Go",
   "language": "go",
   "name": "gophernotes"
  },
  "language_info": {
   "codemirror_mode": "",
   "file_extension": ".go",
   "mimetype": "",
   "name": "go",
   "nbconvert_exporter": "",
   "pygments_lexer": "",
   "version": "go1.15"
  }
 },
 "nbformat": 4,
 "nbformat_minor": 4
}
